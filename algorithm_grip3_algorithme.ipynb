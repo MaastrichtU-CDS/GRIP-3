{
 "cells": [
  {
   "metadata": {
    "ExecuteTime": {
     "end_time": "2024-11-04T15:27:46.637384Z",
     "start_time": "2024-11-04T15:27:46.526958Z"
    }
   },
   "cell_type": "code",
   "source": [
    "# Primaire onderzoeksvragen\n",
    "# 1. Wat is de incidentie van apendicities (D88=D88) en cholelithiasis (D98 / D98*)?\t\n",
    "#   - incidentie:=episodes nieuw gestart in 2022\n",
    "# 2. Wat is de incidentie en prevalencie van OMA (H71=H71) otitis.. . EN UWI (U71 / U71*)?\t\n",
    "#   - incidentie:=episodes nieuw gestart in 2022; \n",
    "#   - puintprevalentie op 31-12-2022:= patienten met 8 weken ervoor t/m 31-12-2022 een nieuwe episode H71 of U71 (aanname: duur  8 weken)\n",
    "# 3. Wat is de gemiddelde BMI van mensen met DM2 (T90, icpc1 T90.02 (en evtl. T90?); \n",
    "#   - episodes diabetes type 2, gestart ooit t/m 1-1-2022; \n",
    "#   - alle uitslagen van bepalingen lengte en gewicht in 2022\n",
    "#\n",
    "# inc. standaard populatie cijfers, op 1-1-2022 en op 31-12-2022\n",
    "\n",
    "import pandas as pd\n",
    "import os\n",
    "\n",
    "# change working directory to the location of the files\n",
    "# os.chdir('python/pht/20240923_PHT/')\n",
    "\n",
    "# print the current working directory\n",
    "print('Starting the script')\n",
    "print()\n",
    "print('Current working directory: ' + os.getcwd())\n",
    "\n",
    "# define the file paths\n",
    "file_paths = [\n",
    "    'Patient.csv',\n",
    "    'Episodes.csv',\n",
    "    'Uitslagen.csv',\n",
    "    'Populatie.csv',\n",
    "]\n",
    "\n",
    "# Make sure the data files exist\n",
    "for file_path in file_paths:\n",
    "    if not os.path.exists(file_path):\n",
    "        print('File ' + file_path + ' does not exist')\n",
    "        exit()\n",
    "\n",
    "# Read the CSV files into pandas dataframes\n",
    "dataframes = [pd.read_csv(file_path) for file_path in file_paths]\n",
    "\n",
    "# Access individual dataframes \n",
    "df_patient, df_episodes, df_uitslagen, df_populaties = dataframes\n",
    "\n",
    "# Print the colum names of the 4 dataframe\n",
    "print()\n",
    "print('Columns of Patient.csv:   ', df_patient.columns.tolist())\n",
    "print('Columns of Episodes.csv:  ', df_episodes.columns.tolist())\n",
    "print('Columns of Uitslagen.csv: ', df_uitslagen.columns.tolist())\n",
    "print('Columns of Populatie.csv: ', df_populaties.columns.tolist())\n",
    "print()\n"
   ],
   "id": "5946dc9836e09d26",
   "outputs": [
    {
     "name": "stdout",
     "output_type": "stream",
     "text": [
      "Starting the script\n",
      "\n",
      "Current working directory: /Users/michaelricking/work/python/pht/20240923_PHT\n",
      "\n",
      "Columns of Patient.csv:    ['pat_studie_id', 'praktijk_nr', 'geslacht', 'jaar_geboorte', 'datum_inschrijving', 'datum_vertrek', 'reden_vertrek', 'data_begin', 'data_eind']\n",
      "Columns of Episodes.csv:   ['pat_studie_id', 'episode_nr', 'datum_start', 'icpc1_code', 'icpc2_code', 'icd10_code', 'omschrijving']\n",
      "Columns of Uitslagen.csv:  ['pat_studie_id', 'bepaling_nr', 'bepaling_code', 'datum', 'waarde', 'waarde_numeriek']\n",
      "Columns of Populatie.csv:  ['praktijk_nr', 'peildatum', 'aantal']\n",
      "\n"
     ]
    }
   ],
   "execution_count": 191
  },
  {
   "metadata": {
    "ExecuteTime": {
     "end_time": "2024-11-04T15:27:49.409151Z",
     "start_time": "2024-11-04T15:27:49.389120Z"
    }
   },
   "cell_type": "code",
   "source": [
    "# change the datatype of the columns that contain a data to datetime\n",
    "df_episodes['datum_start'] = pd.to_datetime(df_episodes['datum_start'], errors = 'coerce')\n",
    "# print(df_episodes[df_episodes['datum_start'].isnull()])\n",
    "df_uitslagen['datum'] = pd.to_datetime(df_uitslagen['datum'], errors = 'coerce')\n",
    "# print(df_uitslagen[df_uitslagen['datum'].isnull()])\n",
    "df_populaties['peildatum'] = pd.to_datetime(df_populaties['peildatum'], errors = 'coerce')\n",
    "# print(df_populaties[df_populaties['peildatum'].isnull()])\n"
   ],
   "id": "dc3dab646aa7128e",
   "outputs": [],
   "execution_count": 192
  },
  {
   "metadata": {
    "ExecuteTime": {
     "end_time": "2024-11-04T15:27:52.680648Z",
     "start_time": "2024-11-04T15:27:52.669509Z"
    }
   },
   "cell_type": "code",
   "source": [
    "# Prep: populatie cijfers\n",
    "print()\n",
    "print('Voorbereiding: bereken totale populatie cijfers voor alle praktijken')\n",
    "\n",
    "# make new empty result dictionary\n",
    "result = {}\n",
    "\n",
    "# get populaties on 2022-01-01 and 2022-12-31\n",
    "populatie_2022_01_01 = df_populaties.loc[df_populaties['peildatum'] == '2022-01-01'][['aantal']].sum().values[0]\n",
    "print('totale populatie op 2022-01-01:   ', populatie_2022_01_01)\n",
    "result['populatie_2022_01_01'] = populatie_2022_01_01\n",
    "\n",
    "populatie_2022_12_31 = df_populaties.loc[df_populaties['peildatum'] == '2022-12-31'][['aantal']].sum().values[0]\n",
    "print('totale populatie op 2022-12-31:   ', populatie_2022_12_31)\n",
    "result['populatie_2022_12_31'] = populatie_2022_12_31\n",
    "\n",
    "# calculate the midtime population\n",
    "populatie_2022_gemiddeld = round((populatie_2022_12_31 + populatie_2022_01_01) / 2)\n",
    "print('totale populatie 2022, gemiddeld: ', populatie_2022_gemiddeld)\n",
    "result['populatie_2022_gemiddeld'] = populatie_2022_gemiddeld"
   ],
   "id": "5811d3223bc90b72",
   "outputs": [
    {
     "name": "stdout",
     "output_type": "stream",
     "text": [
      "\n",
      "Voorbereiding: bereken totale populatie cijfers voor alle praktijken\n",
      "totale populatie op 2022-01-01:    38995\n",
      "totale populatie op 2022-12-31:    38995\n",
      "totale populatie 2022, gemiddeld:  38995\n"
     ]
    }
   ],
   "execution_count": 193
  },
  {
   "metadata": {
    "ExecuteTime": {
     "end_time": "2024-11-04T15:27:57.090937Z",
     "start_time": "2024-11-04T15:27:57.080068Z"
    }
   },
   "cell_type": "code",
   "source": [
    "# Vraag 1\n",
    "print()\n",
    "print('Vraag 1: Wat is de incidentie van apendicities (D88) en cholelithiasis (D98*)?')\n",
    "print('         incidentie := episodes nieuw gestart in 2022')\n",
    "\n",
    "# count episodes with icpc = D88\n",
    "epi_d88 = df_episodes.loc[df_episodes['icpc1_code'].str.startswith('D88', na=False)]\n",
    "count_epi_d88 = len(epi_d88)\n",
    "print('aantal episodes D88: ', count_epi_d88)\n",
    "result['count_epi_d88'] = count_epi_d88\n",
    "incidentie_d88 = round(count_epi_d88 / populatie_2022_gemiddeld * 1000, 2)\n",
    "print('incidentie D88 per 1000 patient jaren: ', incidentie_d88)\n",
    "result['incidentie_d88'] = incidentie_d88\n",
    "\n",
    "# count episodes with icpc = D98\n",
    "epi_d98 = df_episodes.loc[df_episodes['icpc1_code'].str.startswith('D98', na=False)]\n",
    "count_epi_d98 = len(epi_d98)\n",
    "print('aantal episodes D98: ', count_epi_d98)\n",
    "result['count_epi_d98'] = count_epi_d98\n",
    "incidentie_d98 = round(count_epi_d98 / populatie_2022_gemiddeld * 1000 , 2)\n",
    "print('incidentie D98 per 1000 patient jaren: ', incidentie_d98)\n",
    "result['incidentie_d98'] = incidentie_d98\n"
   ],
   "id": "f30187dab3bd84a2",
   "outputs": [
    {
     "name": "stdout",
     "output_type": "stream",
     "text": [
      "\n",
      "Vraag 1: Wat is de incidentie van apendicities (D88) en cholelithiasis (D98*)?\n",
      "         incidentie := episodes nieuw gestart in 2022\n",
      "aantal episodes D88:  0\n",
      "incidentie D88 per 1000 patient jaren:  0.0\n",
      "aantal episodes D98:  0\n",
      "incidentie D98 per 1000 patient jaren:  0.0\n"
     ]
    }
   ],
   "execution_count": 194
  },
  {
   "metadata": {
    "ExecuteTime": {
     "end_time": "2024-11-04T15:28:03.140139Z",
     "start_time": "2024-11-04T15:28:03.119393Z"
    }
   },
   "cell_type": "code",
   "source": [
    "# Vraag 2\n",
    "print()\n",
    "print('Vraag 2: Wat is de incidentie en prevalencie van OMA (H71) otitis.. . EN UWI (U71*)?')\n",
    "print('         incidentie := episodes nieuw gestart in 2022')\n",
    "print('         puntprevalentie op 31-12-2022 := patienten met 8 weken ervoor t/m 31-12-2022 een nieuwe episode H71 of U71 (aanname: duur  8 weken)')\n",
    "\n",
    "# count episodes with icpc = H71\n",
    "epi_h71 = df_episodes.loc[df_episodes['icpc1_code'].str.startswith('H71', na=False)]\n",
    "count_epi_h71 = len(epi_h71)\n",
    "print('aantal episodes H71: ', count_epi_h71)\n",
    "result['count_epi_h71'] = count_epi_h71\n",
    "incidentie_h71 = round(count_epi_h71 / populatie_2022_gemiddeld * 1000, 2)\n",
    "print('incidentie H71 per 1000 patient jaren: ', incidentie_h71)\n",
    "result['incidentie_h71'] = incidentie_h71\n",
    "\n",
    "# count patients with episiodes epi_h71 with start date between 2022-10-01 and 2022-12-31\n",
    "epi_h71_prev = epi_h71[(epi_h71['datum_start'] >= '2022-10-01') & (epi_h71['datum_start'] <= '2022-12-31')]\n",
    "count_pat_h71_prev = len(epi_h71_prev['pat_studie_id'].unique())\n",
    "print('aantal patienten met H71 op 2022-12-31: ', count_pat_h71_prev)\n",
    "result['count_pat_h71_prev'] = count_pat_h71_prev\n",
    "prevalentie_h71_2022_12_31 = round(count_pat_h71_prev / populatie_2022_12_31 * 1000, 2)\n",
    "print('puntprevalentie H71 op 2022-12-31 per 1000: ', prevalentie_h71_2022_12_31)\n",
    "result['prevalentie_h71_2022_12_31'] = prevalentie_h71_2022_12_31\n",
    "\n",
    "# count episodes with icpc = U71\n",
    "epi_u71 = df_episodes.loc[df_episodes['icpc1_code'].str.startswith('U71', na=False)]\n",
    "count_epi_u71 = len(epi_u71)\n",
    "print('aantal episodes U71: ', count_epi_u71)\n",
    "result['count_epi_u71'] = count_epi_u71\n",
    "incidentie_u71 = round(count_epi_u71 / populatie_2022_gemiddeld * 1000, 2)\n",
    "print('incidentie U71 per 1000 patient jaren: ', incidentie_u71)\n",
    "result['incidentie_u71'] = incidentie_u71\n",
    "\n",
    "# count patients with episiodes epi_u71 with start date between 2022-10-01 and 2022-12-31\n",
    "epi_u71_prev = epi_u71[(epi_u71['datum_start'] >= '2022-10-01') & (epi_u71['datum_start'] <= '2022-12-31')]\n",
    "count_pat_u71_prev = len(epi_u71_prev['pat_studie_id'].unique())\n",
    "print('aantal patienten met U71 op 2022-12-31: ', count_pat_u71_prev)\n",
    "result['count_pat_u71_prev'] = count_pat_u71_prev\n",
    "prevalentie_u71_2022_12_31 = round(count_pat_u71_prev / populatie_2022_12_31 * 1000, 2)\n",
    "print('puntprevalentie U71 op 2022-12-31 per 1000: ', prevalentie_u71_2022_12_31)\n",
    "result['prevalentie_u71_2022_12_31'] = prevalentie_u71_2022_12_31\n"
   ],
   "id": "26f196ca12311b0a",
   "outputs": [
    {
     "name": "stdout",
     "output_type": "stream",
     "text": [
      "\n",
      "Vraag 2: Wat is de incidentie en prevalencie van OMA (H71) otitis.. . EN UWI (U71*)?\n",
      "         incidentie := episodes nieuw gestart in 2022\n",
      "         puntprevalentie op 31-12-2022 := patienten met 8 weken ervoor t/m 31-12-2022 een nieuwe episode H71 of U71 (aanname: duur  8 weken)\n",
      "aantal episodes H71:  6\n",
      "incidentie H71 per 1000 patient jaren:  0.15\n",
      "aantal patienten met H71 op 2022-12-31:  2\n",
      "puntprevalentie H71 op 2022-12-31 per 1000:  0.05\n",
      "aantal episodes U71:  8\n",
      "incidentie U71 per 1000 patient jaren:  0.21\n",
      "aantal patienten met U71 op 2022-12-31:  2\n",
      "puntprevalentie U71 op 2022-12-31 per 1000:  0.05\n"
     ]
    }
   ],
   "execution_count": 195
  },
  {
   "metadata": {
    "ExecuteTime": {
     "end_time": "2024-11-04T15:28:08.905052Z",
     "start_time": "2024-11-04T15:28:08.874360Z"
    }
   },
   "cell_type": "code",
   "source": [
    "# Vraag 3\n",
    "print()\n",
    "print('Vraag 3: Wat is de gemiddelde BMI van mensen met DM2 (T90 en T90.02)')\n",
    "print('         episodes diabetes type 2, gestart ooit t/m 1-1-2022; alle uitslagen van bepalingen lengte en gewicht in 2022')\n",
    "\n",
    "\n",
    "# count episodes with icpc = T90\n",
    "epi_t90 = df_episodes.loc[df_episodes['icpc1_code'].str.startswith('T90', na=False)]\n",
    "count_epi_t90 = len(epi_t90)\n",
    "print('aantal episodes T90 ooit: ', count_epi_t90)\n",
    "result['count_epi_t90'] = count_epi_t90\n",
    "\n",
    "# count patients with episiodes epi_t90\n",
    "count_pat_t90 = len(epi_t90['pat_studie_id'].unique())\n",
    "print('aantal patienten met T90 ooit: ', count_pat_t90)\n",
    "result['count_pat_t90'] = count_pat_t90\n",
    "\n",
    "# select uitslagen for pat_studie_id in epi_t90\n",
    "uitslagen_t90 = df_uitslagen[df_uitslagen['pat_studie_id'].isin(epi_t90['pat_studie_id'])]\n",
    "count_uitslagen_t90 = len(uitslagen_t90)\n",
    "print('aantal uitslagen van patienten met T90: ', count_uitslagen_t90)\n",
    "result['count_uitslagen_t90'] = count_uitslagen_t90\n",
    "\n",
    "# count patients with uitslagen for T90\n",
    "count_pat_uitslagen_t90 = len(uitslagen_t90['pat_studie_id'].unique())\n",
    "print('aantal patienten met T90 met meting(en): ', count_pat_uitslagen_t90)\n",
    "result['count_pat_uitslagen_t90'] = count_pat_uitslagen_t90\n",
    "\n",
    "# select uitslagen for bepalingen lengte en gewicht, met datum in 2022\n",
    "# filter lengte tussen 0.3m and 2.5m en gewicht tussen 20kg and 300kg\n",
    "uitslagen_t90_lengte = uitslagen_t90[\n",
    "    (uitslagen_t90['bepaling_nr'] == 560) \n",
    "    & (uitslagen_t90['waarde_numeriek'] >= 0.3) \n",
    "    & (uitslagen_t90['waarde_numeriek'] <= 2.5) \n",
    "    & (uitslagen_t90['datum'] >= '2022-01-01')\n",
    "    & (uitslagen_t90['datum'] <= '2022-12-31')\n",
    "]\n",
    "uitslagen_t90_gewicht = uitslagen_t90[\n",
    "    (uitslagen_t90['bepaling_nr'] == 357) \n",
    "    & (uitslagen_t90['waarde_numeriek'] >= 20) \n",
    "    & (uitslagen_t90['waarde_numeriek'] <= 300)\n",
    "    & (uitslagen_t90['datum'] >= '2022-01-01')\n",
    "    & (uitslagen_t90['datum'] <= '2022-12-31')\n",
    "]\n",
    "\n",
    "# select meest recente uitslag lengte per patient \n",
    "lengte_recent = uitslagen_t90_lengte.sort_values('datum', ascending=False).drop_duplicates('pat_studie_id')[['pat_studie_id', 'waarde_numeriek']]\n",
    "count_pat_t90_lengte = len(lengte_recent)\n",
    "print ('aantal patienten met T90 met meting lengte in 2022: ', count_pat_t90_lengte)\n",
    "result['count_pat_t90_lengte'] = count_pat_t90_lengte\n",
    "\n",
    "# select meest recente uitslag gewicht per patient \n",
    "gewicht_recent = uitslagen_t90_gewicht.sort_values('datum', ascending=False).drop_duplicates('pat_studie_id')[['pat_studie_id', 'waarde_numeriek']]\n",
    "count_pat_t90_gewicht = len(gewicht_recent)\n",
    "print ('aantal patienten met T90 met meting gewicht in 2022: ', count_pat_t90_gewicht)\n",
    "result['count_pat_t90_gewicht'] = count_pat_t90_gewicht\n",
    "\n",
    "# merge max lengte and max gewicht and change the labels to gewicht and lengte\n",
    "pat_lengte_gewicht = pd.merge(lengte_recent, gewicht_recent, on='pat_studie_id', suffixes=('_lengte', '_gewicht'))\n",
    "# select column pat_studie_id, waarde_numeriek_lengte and waarde_numeriek_gewicht\n",
    "\n",
    "# calculate BMI\n",
    "pat_lengte_gewicht['BMI'] = pat_lengte_gewicht['waarde_numeriek_gewicht' ] / (pat_lengte_gewicht['waarde_numeriek_lengte'] ** 2)\n",
    "count_pat_t90_bmi = len(pat_lengte_gewicht)\n",
    "print ('aantal patienten met T90 met BMI berekenbaar: ', count_pat_t90_bmi)\n",
    "result['count_pat_t90_bmi'] = count_pat_t90_bmi\n",
    "\n",
    "# calculate the average BMI\n",
    "avg_bmi_pat_t90 = pat_lengte_gewicht['BMI'].mean().round(2)\n",
    "print('gemiddelde BMI van patienten met T90: ', avg_bmi_pat_t90)\n",
    "result['avg_bmi_pat_t90'] = avg_bmi_pat_t90"
   ],
   "id": "3493fc24f0da6973",
   "outputs": [
    {
     "name": "stdout",
     "output_type": "stream",
     "text": [
      "\n",
      "Vraag 3: Wat is de gemiddelde BMI van mensen met DM2 (T90 en T90.02)\n",
      "         episodes diabetes type 2, gestart ooit t/m 1-1-2022; alle uitslagen van bepalingen lengte en gewicht in 2022\n",
      "aantal episodes T90 ooit:  5\n",
      "aantal patienten met T90 ooit:  5\n",
      "aantal uitslagen van patienten met T90:  13\n",
      "aantal patienten met T90 met meting(en):  2\n",
      "aantal patienten met T90 met meting lengte in 2022:  2\n",
      "aantal patienten met T90 met meting gewicht in 2022:  2\n",
      "aantal patienten met T90 met BMI berekenbaar:  2\n",
      "gemiddelde BMI van patienten met T90:  36.36\n"
     ]
    }
   ],
   "execution_count": 196
  },
  {
   "metadata": {
    "ExecuteTime": {
     "end_time": "2024-11-04T15:28:11.884408Z",
     "start_time": "2024-11-04T15:28:11.877671Z"
    }
   },
   "cell_type": "code",
   "source": [
    "# print the result\n",
    "print()\n",
    "print('Resultaten:')\n",
    "print('- Vraag 1.1:  incidentie D88 per 1000 patient jaren:      ', result['incidentie_d88'])\n",
    "print('- Vraag 1.2:  incidentie D98 per 1000 patient jaren:      ', result['incidentie_d98'])\n",
    "print('- Vraag 2.1a: incidentie H71 per 1000 patient jaren:      ', result['incidentie_h71'])\n",
    "print('- Vraag 2.1b: puntprevalentie H71 op 2022-12-31 per 1000: ', result['prevalentie_h71_2022_12_31'])\n",
    "print('- Vraag 2.2a: incidentie U71 per 1000 patient jaren:      ', result['incidentie_u71'])\n",
    "print('- Vraag 2.2b: puntprevalentie U71 op 2022-12-31 per 1000: ', result['prevalentie_u71_2022_12_31'])\n",
    "print('- Vraag 3:    gemiddelde BMI van patienten met T90:       ', result['avg_bmi_pat_t90'])\n",
    "print()\n",
    "print('Finished successfully.')"
   ],
   "id": "78430fcd8434d29c",
   "outputs": [
    {
     "name": "stdout",
     "output_type": "stream",
     "text": [
      "\n",
      "Resultaten:\n",
      "- Vraag 1.1:  incidentie D88 per 1000 patient jaren:       0.0\n",
      "- Vraag 1.2:  incidentie D98 per 1000 patient jaren:       0.0\n",
      "- Vraag 2.1a: incidentie H71 per 1000 patient jaren:       0.15\n",
      "- Vraag 2.1b: puntprevalentie H71 op 2022-12-31 per 1000:  0.05\n",
      "- Vraag 2.2a: incidentie U71 per 1000 patient jaren:       0.21\n",
      "- Vraag 2.2b: puntprevalentie U71 op 2022-12-31 per 1000:  0.05\n",
      "- Vraag 3:    gemiddelde BMI van patienten met T90:        36.36\n",
      "\n",
      "Finished successfully.\n"
     ]
    }
   ],
   "execution_count": 197
  }
 ],
 "metadata": {
  "kernelspec": {
   "display_name": "Python 3",
   "language": "python",
   "name": "python3"
  },
  "language_info": {
   "codemirror_mode": {
    "name": "ipython",
    "version": 2
   },
   "file_extension": ".py",
   "mimetype": "text/x-python",
   "name": "python",
   "nbconvert_exporter": "python",
   "pygments_lexer": "ipython2",
   "version": "2.7.6"
  }
 },
 "nbformat": 4,
 "nbformat_minor": 5
}
